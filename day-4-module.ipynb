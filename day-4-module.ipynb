{
 "cells": [
  {
   "cell_type": "markdown",
   "id": "5a4cb99a",
   "metadata": {},
   "source": [
    "# module"
   ]
  },
  {
   "cell_type": "code",
   "execution_count": null,
   "id": "78e2992c",
   "metadata": {},
   "outputs": [],
   "source": [
    "# import 모듈명\n",
    "\n",
    "import math\n",
    "\n",
    "print(math.ceil(43.2)) # 올림 44\n",
    "print(math.floor(43.2)) # 내림 43\n",
    "print(math.sin(1))\n",
    "print(round(43.6))"
   ]
  },
  {
   "cell_type": "code",
   "execution_count": null,
   "id": "86eb0b80",
   "metadata": {},
   "outputs": [],
   "source": [
    "#모듈명이 길어서 약어로 축약\n",
    "import math as m\n",
    "\n",
    "print(m.ceil(43.2)) # 올림 44\n",
    "print(m.floor(43.2)) # 내림 43\n",
    "print(m.sin(1))"
   ]
  },
  {
   "cell_type": "code",
   "execution_count": null,
   "id": "fff7a53f",
   "metadata": {},
   "outputs": [],
   "source": [
    "from math import sin,ceil,floor\n",
    "\n",
    "print(ceil(43.2)) # 올림 44\n",
    "print(floor(43.2)) # 내림 43\n",
    "print(sin(1))"
   ]
  },
  {
   "cell_type": "code",
   "execution_count": null,
   "id": "cfa8a4ca",
   "metadata": {},
   "outputs": [],
   "source": [
    "import random\n",
    "print(\"# random 모듈\")\n",
    "\n",
    "#random(): 0.0 <= x < 1.0 사이의 float 리턴\n",
    "print(\"- random()\", random.random())\n",
    "\n",
    "#uniform(min,max):지정한 범위 사이의 float 리턴\n",
    "print(\"- unifom(100,20)\", random.uniform(10,20))\n",
    "\n",
    "#randomrange(): 지정한 범위의 int를 리턴\n",
    "# - randrange(max): 0 ~ max 사이의 값 리턴\n",
    "# - randrange(min, max): min ~ max 사이의 값 리턴\n",
    "print(\"- randrange(10):\", random.randrange(10))\n",
    "\n",
    "#choice(list): 리스트 내부에 있는 요소를 랜덤하게 선택\n",
    "print(\"- choice([1,2,3,4,5]):\", random.choice([1,2,3,4,5]))\n",
    "\n",
    "# shuffle(list): 리스트의 요소들을 랜덤하게 섞음\n",
    "print(\"- shuffle([1,2,3,4,5]):\",random.shuffle([1,2,3,4,5]))\n",
    "\n",
    "# sample(list, k=<숫자>): 리스트의 요소 중에 k개 뽑기\n",
    "print(\"- sample([1,2,3,4,5], k=2):\", random.sample([1,2,3,4,5],k=2))"
   ]
  },
  {
   "cell_type": "code",
   "execution_count": null,
   "id": "626d7b1a",
   "metadata": {},
   "outputs": [],
   "source": [
    "#os 모듈\n",
    "import os\n",
    "\n",
    "print(\"현재 운영체제:\", os.name)\n",
    "print(\"현재 폴더:\", os.getcwd())\n",
    "print(\"현재 폴더 리스트:\", os.listdir())"
   ]
  },
  {
   "cell_type": "code",
   "execution_count": null,
   "id": "a6b861a0",
   "metadata": {},
   "outputs": [],
   "source": [
    "# 디렉토리 생성: mkdir\n",
    "# 디렉토리 삭제: rmdir()\n",
    "os.mkdir('test_dir')\n",
    "print(\"현재 폴더 리스트:\", os.listdir())\n",
    "\n"
   ]
  },
  {
   "cell_type": "code",
   "execution_count": null,
   "id": "7e7dd127",
   "metadata": {},
   "outputs": [],
   "source": [
    "os.rmdir('test_dir')\n",
    "print(\"현재 폴더 리스트:\", os.listdir())\n"
   ]
  },
  {
   "cell_type": "code",
   "execution_count": null,
   "id": "de20c8a4",
   "metadata": {},
   "outputs": [],
   "source": [
    "os.remove('untitled.ipnb')"
   ]
  },
  {
   "cell_type": "code",
   "execution_count": null,
   "id": "80e9248f",
   "metadata": {},
   "outputs": [],
   "source": [
    "# 파일명 변경: os.rename(old,new)\n",
    "os.rename('list','rename')\n",
    "print(\"현재 폴더 리스트:\", os.listdir())"
   ]
  },
  {
   "cell_type": "code",
   "execution_count": null,
   "id": "33210925",
   "metadata": {},
   "outputs": [],
   "source": [
    "import time\n",
    "\n",
    "print(\"111\")\n",
    "time.sleep(2)\n",
    "print(\"222\")\n"
   ]
  },
  {
   "cell_type": "code",
   "execution_count": null,
   "id": "3fb2e925",
   "metadata": {},
   "outputs": [],
   "source": [
    "# urllib 모듈 : URL(Uniform Resorce Locator)을 다루는 모듈\n",
    "from urllib import request\n",
    "\n",
    "target = request.urlopen('https://www.naver.com')\n",
    "output = target.read()\n",
    "\n",
    "output"
   ]
  },
  {
   "cell_type": "code",
   "execution_count": 2,
   "id": "40ff9378",
   "metadata": {
    "scrolled": false
   },
   "outputs": [
    {
     "ename": "NameError",
     "evalue": "name 'request' is not defined",
     "output_type": "error",
     "traceback": [
      "\u001b[1;31m---------------------------------------------------------------------------\u001b[0m",
      "\u001b[1;31mNameError\u001b[0m                                 Traceback (most recent call last)",
      "Input \u001b[1;32mIn [2]\u001b[0m, in \u001b[0;36m<cell line: 3>\u001b[1;34m()\u001b[0m\n\u001b[0;32m      1\u001b[0m \u001b[38;5;28;01mfrom\u001b[39;00m \u001b[38;5;21;01mbs4\u001b[39;00m \u001b[38;5;28;01mimport\u001b[39;00m BeautifulSoup\n\u001b[1;32m----> 3\u001b[0m target \u001b[38;5;241m=\u001b[39m \u001b[43mrequest\u001b[49m\u001b[38;5;241m.\u001b[39murlopen(\u001b[38;5;124m'\u001b[39m\u001b[38;5;124mhttps://www.naver.com\u001b[39m\u001b[38;5;124m'\u001b[39m)\n\u001b[0;32m      4\u001b[0m output \u001b[38;5;241m=\u001b[39m target\u001b[38;5;241m.\u001b[39mread()\n\u001b[0;32m      6\u001b[0m soup \u001b[38;5;241m=\u001b[39m BeautifulSoup(output, html\u001b[38;5;241m.\u001b[39mparser)\n",
      "\u001b[1;31mNameError\u001b[0m: name 'request' is not defined"
     ]
    }
   ],
   "source": [
    "from bs4 import BeautifulSoup\n",
    "\n",
    "target = request.urlopen('https://www.naver.com')\n",
    "output = target.read()\n",
    "\n",
    "soup = BeautifulSoup(output, html.parser)"
   ]
  },
  {
   "cell_type": "code",
   "execution_count": null,
   "id": "cfda4947",
   "metadata": {},
   "outputs": [],
   "source": []
  }
 ],
 "metadata": {
  "kernelspec": {
   "display_name": "Python 3 (ipykernel)",
   "language": "python",
   "name": "python3"
  },
  "language_info": {
   "codemirror_mode": {
    "name": "ipython",
    "version": 3
   },
   "file_extension": ".py",
   "mimetype": "text/x-python",
   "name": "python",
   "nbconvert_exporter": "python",
   "pygments_lexer": "ipython3",
   "version": "3.9.12"
  }
 },
 "nbformat": 4,
 "nbformat_minor": 5
}

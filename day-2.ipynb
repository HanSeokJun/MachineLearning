{
 "cells": [
  {
   "cell_type": "code",
   "execution_count": null,
   "id": "0a2bc36e",
   "metadata": {},
   "outputs": [],
   "source": [
    "# 문자열 관련 함수: 문자열 오브젝트.upper(), 오브젝트.lower()\n",
    "\n",
    "a_str = \"Hello! Python Programming!\"\n",
    "print(a_str.upper())\n",
    "print(a_str.lower())"
   ]
  },
  {
   "cell_type": "code",
   "execution_count": null,
   "id": "4b57209c",
   "metadata": {},
   "outputs": [],
   "source": [
    "# 문자열의 공백 제거 : 문자열.strip() -> 양쪽의 공백 제거\n",
    "# 문자열.lstrip() -> 왼쪽의 공백 제거\n",
    "# 문자열.rstrip() -> 오른쪽의 공백 제거\n",
    "\n",
    "a_str = \"    Hello! Python Programming!    \"\n",
    "print(\"//\", \"{}\".format(a_str.strip()), \"//\")\n",
    "print(\"//\",\"{}\".format(a_str.lstrip()), \"//\")\n",
    "print(\"//\", \"{}\".format(a_str.rstrip()), \"//\")\n"
   ]
  },
  {
   "cell_type": "code",
   "execution_count": null,
   "id": "cbc2f349",
   "metadata": {},
   "outputs": [],
   "source": [
    "a=\"HELLO\"\n",
    "b=\"hello!\"\n",
    "print(a_str.isalnum()) # p.143\n",
    "print(a.isalnum()) \n",
    "print(b.isalnum()) # !\n"
   ]
  },
  {
   "cell_type": "code",
   "execution_count": null,
   "id": "d18ed5da",
   "metadata": {},
   "outputs": [],
   "source": [
    "# .find(), .rfind() -> 위치반환\n",
    "\n",
    "a_str = \"Hello Python Python\"\n",
    "\n",
    "f = a_str.find(\"Python\") \n",
    "rf = a_str.rfind(\"Python\") \n",
    "print(\"find:{}, rfind:{}\".format(f, rf))\n",
    "\n",
    "r_blank = a_str.rfind(\" \")\n",
    "print(r_blank)\n",
    "print(a_str[f:r_blank])\n"
   ]
  },
  {
   "cell_type": "code",
   "execution_count": null,
   "id": "0173974f",
   "metadata": {},
   "outputs": [],
   "source": [
    "# 문자가 해당 문자열에 있는지 검색- T/F : 문자 in 문자열\n",
    "\n",
    "a_str = \"Hello Python\"\n",
    "print(\"Hello\" in a_str) \n",
    "print(\"hello\" in a_str) # 대소문자 구분"
   ]
  },
  {
   "cell_type": "code",
   "execution_count": null,
   "id": "786e234f",
   "metadata": {},
   "outputs": [],
   "source": [
    "# 문자열.split('분리하고자 하는 문자') 공백은 생략 가능\n",
    "\n",
    "a_str = \"Hello Python programming!\"\n",
    "a_str = a_str.split()\n",
    "\n",
    "print(\"\"\"{} \n",
    "{} \n",
    "{} \n",
    "{}\n",
    "\"\"\".format(a_str, a_str[0], a_str[1], a_str[2]))\n",
    "\n",
    "print(f\"{a_str}\" ) #f-"
   ]
  },
  {
   "cell_type": "code",
   "execution_count": null,
   "id": "9db02d22",
   "metadata": {},
   "outputs": [],
   "source": [
    "# True False and or not == != > < >= <=\n",
    "# 조건문 if\n",
    "\n",
    "a=input(\"입력: \")\n",
    "\n",
    "if a.isdigit() :                  # p.143\n",
    "    print(\"int\")\n",
    "if not a.isdigit() : \n",
    "    print(\"str\")\n"
   ]
  },
  {
   "cell_type": "code",
   "execution_count": null,
   "id": "f05c1699",
   "metadata": {},
   "outputs": [],
   "source": [
    "# import 모둘명\n",
    "import datetime\n",
    "now = datetime.datetime.now()\n",
    "\n",
    "print(\"{}년 {}월 {}일 {}시 {}분 {}초\".format\n",
    "      (now.year, now.month, now.day, now.hour, now.minute, now.second))\n",
    "\n",
    "#3~5월:봄, 6~8월:여름, 9~11월:가을, 12~2월:겨울\n",
    "if 3 <= now.month <= 5:\n",
    "    print(\"봄\")\n",
    "elif 6 <= now.month <= 8:\n",
    "    print(\"여름\")\n",
    "elif 9 <= now.month <= 11:\n",
    "    print(\"가을\")\n",
    "elif 1 <= now.month <= 2 or now.month == 12 :\n",
    "    print(\"겨울\")"
   ]
  },
  {
   "cell_type": "code",
   "execution_count": null,
   "id": "4384dfe5",
   "metadata": {},
   "outputs": [],
   "source": [
    "# 정수를 입력받아 입력된 숫자가 짝수인지 홀수인지 출력\n",
    "a = int(input(\"숫자 입력: \"))\n",
    "\n",
    "if a % 2 == 0 :\n",
    "    print(\"짝수\")\n",
    "elif a % 2 == 1 :\n",
    "    print(\"홀수\")\n",
    "    \n",
    "######### int 변환 없이 문자열로 찾기 ###########\n",
    "b = input(\"숫자 입력: \")\n",
    "last_c = b[-1]\n",
    "\n",
    "if last_c in '02468' :\n",
    "    print(\"짝수\")\n",
    "elif last_c in '13579' :\n",
    "    print(\"홀수\")"
   ]
  },
  {
   "cell_type": "code",
   "execution_count": null,
   "id": "14911631",
   "metadata": {},
   "outputs": [],
   "source": [
    "# 입력받은 자료가 정수이면 홀짝 확인 / 아니면 마지막 문자 출력\n",
    "\n",
    "ipt = input(\"입력: \")\n",
    "\n",
    "if ipt.isdecimal() :         #pass : 구현 안 된 부분 일단 넘기기\n",
    "    a = int(ipt)\n",
    "    if a % 2 == 0 :\n",
    "        print(\"짝수\")\n",
    "    elif a % 2 == 1 :\n",
    "        print(\"홀수\")\n",
    "else :\n",
    "    print(ipt[-1])\n"
   ]
  },
  {
   "cell_type": "code",
   "execution_count": null,
   "id": "8aab24f0",
   "metadata": {},
   "outputs": [],
   "source": [
    "# 리스트 선언\n",
    "list_a = ['test', 12, True,'Python Programming']\n",
    "print(list_a)\n",
    "print(list_a[2])\n",
    "print(list_a[1:3])\n",
    "print(list_a[-1])\n",
    "\n",
    "print()\n",
    "# 문자열 'Python'만 출력\n",
    "a = list_a[-1].split()\n",
    "print(a[0]) \n",
    "print(list_a[-1][ : list_a[-1].find(' ')])\n",
    "\n",
    "print()\n",
    "list_b = [[1,2,3],['a','b','c'],[True,False,False]]\n",
    "print(list_b[0])\n",
    "print(list_b[1][2])"
   ]
  },
  {
   "cell_type": "code",
   "execution_count": null,
   "id": "8d1912a8",
   "metadata": {},
   "outputs": [],
   "source": [
    "list_a = [1,2,3]\n",
    "list_b = [4,5,6]\n",
    "\n",
    "list_c = list_a + list_b\n",
    "print(list_c)\n",
    "print(list_a * 3)\n",
    "\n",
    "####\n",
    "\n",
    "list_a.append(list_b) # 1개 데이터만 마지막 위치에 추가\n",
    "print(\"append:\", list_a)\n",
    "list_a.insert(2,7) # 원래 데이터를 뒤로 미루고 해당 자리에 insert\n",
    "print(\"insert:\",list_a)\n",
    "list_a.extend([7,8,9]) \n",
    "print(\"extend:\",[list_a]) # 한번에 여러 요소 추가\n"
   ]
  },
  {
   "cell_type": "code",
   "execution_count": null,
   "id": "fd12369a",
   "metadata": {},
   "outputs": [],
   "source": [
    "list_s = []\n",
    "\n",
    "ipt_data=input(\"입력: \")\n",
    "list_s.append(ipt_data)\n",
    "ipt_data=input(\"입력: \")\n",
    "list_s.append(ipt_data)\n",
    "ipt_data=input(\"입력: \")\n",
    "list_s.append(ipt_data)\n",
    "ipt_data=input(\"입력: \")\n",
    "list_s.append(ipt_data)\n",
    "ipt_data=input(\"입력: \")\n",
    "list_s.append(ipt_data)\n",
    "print(list_s)\n",
    "\n",
    "list_s[2]=input(\"입력한 데이터: \")\n",
    "print(list_s)\n",
    "\n",
    "list_s.pop(1)\n",
    "print(list_s)"
   ]
  },
  {
   "cell_type": "code",
   "execution_count": null,
   "id": "61b37b4c",
   "metadata": {},
   "outputs": [],
   "source": [
    "# 리스트의 인덱스 슬라이싱 : 리스트명[start:stop:step]\n",
    "list_a = [1,2,3,4,5,6,7,8,9]\n",
    "print(list_a)\n",
    "print(list_a[ : :2])\n",
    "print(list_a[2:7:2])\n",
    "\n",
    "print(list_a[ : : -1]) # 역순\n"
   ]
  },
  {
   "cell_type": "code",
   "execution_count": null,
   "id": "43403c6b",
   "metadata": {},
   "outputs": [],
   "source": [
    "# 리스트 자료 제거: del 리스트명[인덱스], 리스트명.pop([index])\n",
    "# 리스트의 값으로 제거: 리스트명.remove(값)\n",
    "\n",
    "list_a=[1,2,3,4,5]\n",
    "print(list_a)\n",
    "del list_a[2] # 지울 index 입력\n",
    "print(list_a)\n",
    "\n",
    "print()\n",
    "list_a=[1,2,3,4,5]\n",
    "print(list_a)\n",
    "list_a.remove(3) #지울 내용 입력(index가 아닌 데이터)\n",
    "print(list_a)\n",
    "\n",
    "print()\n",
    "list_a=[1,2,3,4,5]\n",
    "print(list_a)\n",
    "list_a.clear() # 리스트 비우기\n",
    "print(list_a)\n"
   ]
  },
  {
   "cell_type": "code",
   "execution_count": null,
   "id": "aa63c4af",
   "metadata": {},
   "outputs": [],
   "source": [
    "list_a = [12,98,62,3,77]\n",
    "print(list_a)\n",
    "\n",
    "list_a.sort() #오름차순 정렬\n",
    "print(list_a)\n",
    "\n",
    "list_a.sort(reverse = True) #내림차순 정렬\n",
    "print(list_a)\n",
    "\n",
    "print(20 in list_a) #검색\n",
    "print(12 in list_a)"
   ]
  },
  {
   "cell_type": "code",
   "execution_count": null,
   "id": "38c225b1",
   "metadata": {},
   "outputs": [],
   "source": [
    "# 반복문 for\n",
    "\n",
    "for char in 'hello for' :\n",
    "    print(char, end=' ')\n",
    "print()\n",
    "\n",
    "list_a = [12,98,62,3,77]\n",
    "for value in list_a :\n",
    "    print(value)\n",
    "print()\n",
    "\n",
    "cnt = 0\n",
    "for value in list_a:\n",
    "    cnt+=1\n",
    "    print(\"{}회: {}\".format(cnt,value))\n",
    "print()\n",
    "\n",
    "list_a = [[1,2,3],[4,5,6],[7,8,9]]\n",
    "for i in list_a:\n",
    "    for j in i:\n",
    "        print(j,end='\\t')\n",
    "    print()"
   ]
  },
  {
   "cell_type": "code",
   "execution_count": null,
   "id": "cca28f41",
   "metadata": {},
   "outputs": [],
   "source": [
    "#구구단 for 아이템 in 범위 :\n",
    "\n",
    "for i in range(2,10) :\n",
    "    print(f\"{i}단\")\n",
    "    for j in range(1,10) :\n",
    "        print(\"{} * {} = {}\".format(i,j,i*j))\n",
    "    print()"
   ]
  },
  {
   "cell_type": "code",
   "execution_count": null,
   "id": "38f00e26",
   "metadata": {},
   "outputs": [],
   "source": [
    "list_dan=[2,3,4,5,6,7,8,9]\n",
    "list_num=[1,2,3,4,5,6,7,8,9]\n",
    "\n",
    "for i in list_dan :\n",
    "    print(f\"{i}단\")\n",
    "    l_cnt = 0\n",
    "\n",
    "    for j in list_num :\n",
    "        l_cnt += 1\n",
    "        if l_cnt < 3 :\n",
    "            print(\"{} * {} = {}\".format(i, j, i * j), end='\\t')\n",
    "        else:\n",
    "            print(\"{} * {} = {}\".format(i, j, i * j))\n",
    "            l_cnt = 0\n",
    "    print()"
   ]
  },
  {
   "cell_type": "code",
   "execution_count": null,
   "id": "16f75588",
   "metadata": {},
   "outputs": [],
   "source": [
    "0\n",
    "print(a)"
   ]
  },
  {
   "cell_type": "markdown",
   "id": "c9fa63b6",
   "metadata": {},
   "source": [
    "#계산기 프로그램\n",
    "#반복해서 작성\n",
    "#'q' 입력 시 종료\n",
    "#1.문자열 입력->리스트에 저장\n",
    "#2.리스트의 자료를 가져옴\n",
    "#3.리스트의 처음 자료가 'q'이면 종료\n",
    "#4.계속 입력 -> 리스트에 저장"
   ]
  },
  {
   "cell_type": "code",
   "execution_count": 3,
   "id": "285cb430",
   "metadata": {
    "scrolled": true
   },
   "outputs": [
    {
     "ename": "KeyboardInterrupt",
     "evalue": "Interrupted by user",
     "output_type": "error",
     "traceback": [
      "\u001b[1;31m---------------------------------------------------------------------------\u001b[0m",
      "\u001b[1;31mKeyboardInterrupt\u001b[0m                         Traceback (most recent call last)",
      "Input \u001b[1;32mIn [3]\u001b[0m, in \u001b[0;36m<cell line: 3>\u001b[1;34m()\u001b[0m\n\u001b[0;32m      1\u001b[0m lst\u001b[38;5;241m=\u001b[39m[]\n\u001b[0;32m      2\u001b[0m \u001b[38;5;28;01mwhile\u001b[39;00m \u001b[38;5;28;01mTrue\u001b[39;00m:\n\u001b[1;32m----> 3\u001b[0m     ipt \u001b[38;5;241m=\u001b[39m \u001b[38;5;28;43minput\u001b[39;49m\u001b[43m(\u001b[49m\u001b[38;5;124;43m\"\u001b[39;49m\u001b[38;5;124;43m입력(a + b): \u001b[39;49m\u001b[38;5;124;43m\"\u001b[39;49m\u001b[43m)\u001b[49m\n\u001b[0;32m      4\u001b[0m     ipt_split \u001b[38;5;241m=\u001b[39m ipt\u001b[38;5;241m.\u001b[39msplit()\n\u001b[0;32m      6\u001b[0m     \u001b[38;5;28;01mif\u001b[39;00m ipt[\u001b[38;5;241m0\u001b[39m] \u001b[38;5;241m==\u001b[39m \u001b[38;5;124m'\u001b[39m\u001b[38;5;124mq\u001b[39m\u001b[38;5;124m'\u001b[39m:\n",
      "File \u001b[1;32m~\\anaconda3\\lib\\site-packages\\ipykernel\\kernelbase.py:1075\u001b[0m, in \u001b[0;36mKernel.raw_input\u001b[1;34m(self, prompt)\u001b[0m\n\u001b[0;32m   1071\u001b[0m \u001b[38;5;28;01mif\u001b[39;00m \u001b[38;5;129;01mnot\u001b[39;00m \u001b[38;5;28mself\u001b[39m\u001b[38;5;241m.\u001b[39m_allow_stdin:\n\u001b[0;32m   1072\u001b[0m     \u001b[38;5;28;01mraise\u001b[39;00m StdinNotImplementedError(\n\u001b[0;32m   1073\u001b[0m         \u001b[38;5;124m\"\u001b[39m\u001b[38;5;124mraw_input was called, but this frontend does not support input requests.\u001b[39m\u001b[38;5;124m\"\u001b[39m\n\u001b[0;32m   1074\u001b[0m     )\n\u001b[1;32m-> 1075\u001b[0m \u001b[38;5;28;01mreturn\u001b[39;00m \u001b[38;5;28;43mself\u001b[39;49m\u001b[38;5;241;43m.\u001b[39;49m\u001b[43m_input_request\u001b[49m\u001b[43m(\u001b[49m\n\u001b[0;32m   1076\u001b[0m \u001b[43m    \u001b[49m\u001b[38;5;28;43mstr\u001b[39;49m\u001b[43m(\u001b[49m\u001b[43mprompt\u001b[49m\u001b[43m)\u001b[49m\u001b[43m,\u001b[49m\n\u001b[0;32m   1077\u001b[0m \u001b[43m    \u001b[49m\u001b[38;5;28;43mself\u001b[39;49m\u001b[38;5;241;43m.\u001b[39;49m\u001b[43m_parent_ident\u001b[49m\u001b[43m[\u001b[49m\u001b[38;5;124;43m\"\u001b[39;49m\u001b[38;5;124;43mshell\u001b[39;49m\u001b[38;5;124;43m\"\u001b[39;49m\u001b[43m]\u001b[49m\u001b[43m,\u001b[49m\n\u001b[0;32m   1078\u001b[0m \u001b[43m    \u001b[49m\u001b[38;5;28;43mself\u001b[39;49m\u001b[38;5;241;43m.\u001b[39;49m\u001b[43mget_parent\u001b[49m\u001b[43m(\u001b[49m\u001b[38;5;124;43m\"\u001b[39;49m\u001b[38;5;124;43mshell\u001b[39;49m\u001b[38;5;124;43m\"\u001b[39;49m\u001b[43m)\u001b[49m\u001b[43m,\u001b[49m\n\u001b[0;32m   1079\u001b[0m \u001b[43m    \u001b[49m\u001b[43mpassword\u001b[49m\u001b[38;5;241;43m=\u001b[39;49m\u001b[38;5;28;43;01mFalse\u001b[39;49;00m\u001b[43m,\u001b[49m\n\u001b[0;32m   1080\u001b[0m \u001b[43m\u001b[49m\u001b[43m)\u001b[49m\n",
      "File \u001b[1;32m~\\anaconda3\\lib\\site-packages\\ipykernel\\kernelbase.py:1120\u001b[0m, in \u001b[0;36mKernel._input_request\u001b[1;34m(self, prompt, ident, parent, password)\u001b[0m\n\u001b[0;32m   1117\u001b[0m             \u001b[38;5;28;01mbreak\u001b[39;00m\n\u001b[0;32m   1118\u001b[0m \u001b[38;5;28;01mexcept\u001b[39;00m \u001b[38;5;167;01mKeyboardInterrupt\u001b[39;00m:\n\u001b[0;32m   1119\u001b[0m     \u001b[38;5;66;03m# re-raise KeyboardInterrupt, to truncate traceback\u001b[39;00m\n\u001b[1;32m-> 1120\u001b[0m     \u001b[38;5;28;01mraise\u001b[39;00m \u001b[38;5;167;01mKeyboardInterrupt\u001b[39;00m(\u001b[38;5;124m\"\u001b[39m\u001b[38;5;124mInterrupted by user\u001b[39m\u001b[38;5;124m\"\u001b[39m) \u001b[38;5;28;01mfrom\u001b[39;00m \u001b[38;5;28mNone\u001b[39m\n\u001b[0;32m   1121\u001b[0m \u001b[38;5;28;01mexcept\u001b[39;00m \u001b[38;5;167;01mException\u001b[39;00m:\n\u001b[0;32m   1122\u001b[0m     \u001b[38;5;28mself\u001b[39m\u001b[38;5;241m.\u001b[39mlog\u001b[38;5;241m.\u001b[39mwarning(\u001b[38;5;124m\"\u001b[39m\u001b[38;5;124mInvalid Message:\u001b[39m\u001b[38;5;124m\"\u001b[39m, exc_info\u001b[38;5;241m=\u001b[39m\u001b[38;5;28;01mTrue\u001b[39;00m)\n",
      "\u001b[1;31mKeyboardInterrupt\u001b[0m: Interrupted by user"
     ]
    }
   ],
   "source": [
    "lst=[]\n",
    "while True:\n",
    "    ipt = input(\"입력(a + b): \")\n",
    "    ipt_split = ipt.split()\n",
    "        \n",
    "    if ipt[0] == 'q':\n",
    "        break\n",
    "    if len(ipt_split) !=3 or not ipt_split[0].isnumeric() or not ipt_split[2].isnumeric() :\n",
    "        print(\"입력 오류(a + b 형식으로 입력)\")\n",
    "        continue\n",
    "    if not ipt_split[1] in '+-*/' :\n",
    "        print(\"부호 오류\")\n",
    "        continue\n",
    "    else :\n",
    "        a = int(ipt_split[0])\n",
    "        b = int(ipt_split[2])\n",
    "        \n",
    "        if ipt_split[1] == '+':\n",
    "            r = str(a + b)\n",
    "        elif ipt_split[1] == '-':\n",
    "            r = str(a - b)\n",
    "        elif ipt_split[1] == '*':\n",
    "            r = str(a * b)\n",
    "        elif ipt_split[1] == '/':\n",
    "            r = str(a / b)\n",
    "        \n",
    "        print(\"{} {} {} = {}\".format(a,ipt_split[1],b,r))\n",
    "        ipt_str = ipt + ' = ' + r\n",
    "        \n",
    "        lst.append(ipt_str)\n",
    "        print(lst)\n",
    "        print()\n",
    "        \n",
    "        \n"
   ]
  },
  {
   "cell_type": "code",
   "execution_count": 5,
   "id": "464f2020",
   "metadata": {},
   "outputs": [
    {
     "name": "stdout",
     "output_type": "stream",
     "text": [
      "10 20\n",
      "20 10\n",
      "10 20\n"
     ]
    }
   ],
   "source": [
    "# 튜플 : 수정 불가능한 리스트\n",
    "# 람다 : 선언 없이 사용하는 간단한 함수\n",
    "\n",
    "(a,b) = (10,20)\n",
    "print(a,b)\n",
    "\n",
    "b,a = a,b\n",
    "print(a,b)\n",
    "\n",
    "def test():\n",
    "    return (10,20)\n",
    "(a,b) = test()\n",
    "print(a,b)\n",
    "\n"
   ]
  },
  {
   "cell_type": "code",
   "execution_count": null,
   "id": "27c7856a",
   "metadata": {},
   "outputs": [],
   "source": []
  }
 ],
 "metadata": {
  "kernelspec": {
   "display_name": "Python 3 (ipykernel)",
   "language": "python",
   "name": "python3"
  },
  "language_info": {
   "codemirror_mode": {
    "name": "ipython",
    "version": 3
   },
   "file_extension": ".py",
   "mimetype": "text/x-python",
   "name": "python",
   "nbconvert_exporter": "python",
   "pygments_lexer": "ipython3",
   "version": "3.9.12"
  }
 },
 "nbformat": 4,
 "nbformat_minor": 5
}

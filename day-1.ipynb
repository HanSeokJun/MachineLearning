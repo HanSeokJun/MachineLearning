{
 "cells": [
  {
   "cell_type": "code",
   "execution_count": 11,
   "id": "383108dd",
   "metadata": {},
   "outputs": [
    {
     "name": "stdout",
     "output_type": "stream",
     "text": [
      "# 하나만 출력합니다.\n",
      "Hello Python Programming...!\n",
      "\n",
      "# 여러 개를 출력합니다.\n",
      "10 20 30 40 50\n",
      "안녕하세요 저의 이름은 윤인성입니다!\n",
      "\n",
      "# 아무것도 출력하지 않습니다.\n",
      "--확인 전용선--\n",
      "\n",
      "\n",
      "--확인 전용선--\n"
     ]
    }
   ],
   "source": [
    "# 하나만 출력합니다.\n",
    "print(\"# 하나만 출력합니다.\")\n",
    "print(\"Hello Python Programming...!\")\n",
    "print()\n",
    "\n",
    "#여러 개를 출력합니다.\n",
    "print(\"# 여러 개를 출력합니다.\")\n",
    "print(10, 20, 30, 40, 50)\n",
    "print(\"안녕하세요\", \"저의\", \"이름은\", \"윤인성입니다!\")\n",
    "print()\n",
    "\n",
    "#아무것도 입력하지 않으면 단순하게 줄바꿈합니다.\n",
    "print(\"# 아무것도 출력하지 않습니다.\")\n",
    "print(\"--확인 전용선--\")\n",
    "print()\n",
    "print()\n",
    "print(\"--확인 전용선--\")"
   ]
  },
  {
   "cell_type": "code",
   "execution_count": 17,
   "id": "679a19e3",
   "metadata": {},
   "outputs": [
    {
     "name": "stdout",
     "output_type": "stream",
     "text": [
      "문자열의 데이터 타입:  <class 'str'>\n",
      "숫자열의 데이터 타입:  <class 'int'> <class 'float'>\n",
      "불의 데이터 타입:  <class 'bool'>\n"
     ]
    }
   ],
   "source": [
    "# python의 자료열은 : 문자열, 숫자, 불 타입으로 세가지만 존재\n",
    "print('문자열의 데이터 타입: ', type('문자열'))\n",
    "print('숫자열의 데이터 타입: ', type(10), type(10.55))\n",
    "print('불의 데이터 타입: ', type(True))"
   ]
  },
  {
   "cell_type": "code",
   "execution_count": 28,
   "id": "be40cf24",
   "metadata": {},
   "outputs": [
    {
     "name": "stdout",
     "output_type": "stream",
     "text": [
      "이름\t\t나이\t지역\n",
      "유인성\t25\t강서구\n"
     ]
    }
   ],
   "source": [
    "print('이름\\t\\t나이\\t지역')\n",
    "print('유인성\\t25\\t강서구')"
   ]
  },
  {
   "cell_type": "code",
   "execution_count": 42,
   "id": "b8c82667",
   "metadata": {},
   "outputs": [
    {
     "name": "stdout",
     "output_type": "stream",
     "text": [
      "ㅁㅁㅁㅁㄴㄴㄴㄴ\n",
      "ㅇㅇㅇㅇ\n",
      "ㄹㄹㄹㄹ\n"
     ]
    }
   ],
   "source": [
    "print(\"\"\"ㅁㅁㅁㅁ\\\n",
    "ㄴㄴㄴㄴ\n",
    "ㅇㅇㅇㅇ\n",
    "ㄹㄹㄹㄹ\"\"\")"
   ]
  },
  {
   "cell_type": "code",
   "execution_count": 44,
   "id": "de558362",
   "metadata": {},
   "outputs": [
    {
     "name": "stdout",
     "output_type": "stream",
     "text": [
      "ㅎㅇ\n",
      "ㅎㅇ ㅎㅇ!\n",
      "ㅎㅇ ㅎㅇ ㅎㅇ \n"
     ]
    }
   ],
   "source": [
    "print(\"ㅎㅇ\")\n",
    "print(\"ㅎㅇ \"+\"ㅎㅇ\"+\"!\")\n",
    "print(\"ㅎㅇ \"*3)"
   ]
  }
 ],
 "metadata": {
  "kernelspec": {
   "display_name": "Python 3 (ipykernel)",
   "language": "python",
   "name": "python3"
  },
  "language_info": {
   "codemirror_mode": {
    "name": "ipython",
    "version": 3
   },
   "file_extension": ".py",
   "mimetype": "text/x-python",
   "name": "python",
   "nbconvert_exporter": "python",
   "pygments_lexer": "ipython3",
   "version": "3.9.12"
  }
 },
 "nbformat": 4,
 "nbformat_minor": 5
}

{
 "cells": [
  {
   "cell_type": "code",
   "execution_count": null,
   "id": "c3e18376",
   "metadata": {},
   "outputs": [],
   "source": [
    "#딕셔너리 선언\n",
    "{\n",
    "    \n",
    "    \"키A\" : 10,\n",
    "    \"키B\" : 20,\n",
    "    \"키C\" : 30,\n",
    "    1 : 40,\n",
    "    False: 50\n",
    "}\n",
    "\n",
    "\n",
    "dic_a = {'name': '홍길동', 'age': 30}\n",
    "\n",
    "print(dic_a)\n",
    "print(type(dic_a)) # Class\n",
    "\n",
    "\n",
    "#딕셔너리에 값 추가 / 제거 : 딕셔너리[키] = 값\n",
    "#삭제는 del 딕셔너리[키]\n",
    "dic_a['title'] = '딕셔너리'\n",
    "print(dic_a)\n",
    "\n",
    "del dic_a['name']\n",
    "dic_a\n",
    "\n"
   ]
  },
  {
   "cell_type": "code",
   "execution_count": null,
   "id": "fc7b27c9",
   "metadata": {},
   "outputs": [],
   "source": [
    "name = '키'\n",
    "dic_b = {name:10}\n",
    "print(dic_b)"
   ]
  },
  {
   "cell_type": "code",
   "execution_count": null,
   "id": "e436c9dc",
   "metadata": {},
   "outputs": [],
   "source": [
    "# 키보드에서 이름 성적을 입력받아 이름을 키로,성적을 값으로 딕셔너리에 저장\n",
    "#이름에 'q' 가 입력되면 종료\n",
    "#저장된 자료 출력\n",
    "\n",
    "dic_a = {}\n",
    "\n",
    "while True :\n",
    "    ipt_name = input(\"이름 입력: \")\n",
    "    \n",
    "    if ipt_name == 'q':\n",
    "        break\n",
    " \n",
    "    ipt_score = input(\"성적 입력:\")\n",
    "    dic_a[ipt_name]= ipt_score          # dic_a['성적'] = ipt_score\n",
    "\n",
    "print(dic_a)"
   ]
  },
  {
   "cell_type": "code",
   "execution_count": null,
   "id": "22a774c5",
   "metadata": {},
   "outputs": [],
   "source": [
    "dict_d = {}\n",
    "name = 'aa'\n",
    "score = 90\n",
    "dict_d[name] =  score\n",
    "name = 'bb'\n",
    "dict_d[name] = score\n",
    "dict_d"
   ]
  },
  {
   "cell_type": "code",
   "execution_count": null,
   "id": "f2b454aa",
   "metadata": {},
   "outputs": [],
   "source": [
    "                \n",
    "#키 존재여부 확인: key in 딕셔너리\n",
    "print('홍길동' in dic_a)"
   ]
  },
  {
   "cell_type": "code",
   "execution_count": null,
   "id": "5dd92326",
   "metadata": {},
   "outputs": [],
   "source": [
    "#이름 입력받아 존재하면 이름과 성적 출력\n",
    "#존재하지 않으면 \"존재하지 않는 이름\"이라고 출력\n",
    "\n",
    "sch_name = input(\"이름 입력: \")\n",
    "\n",
    "if sch_name in dic_a :\n",
    "    print(\"이름:{} , 성적:{}\".format(sch_name, dic_a[sch_name]))\n",
    "else :\n",
    "    print(\"이름이 존재하지 않음\")\n",
    "                                 \n"
   ]
  },
  {
   "cell_type": "code",
   "execution_count": null,
   "id": "22afa3d9",
   "metadata": {},
   "outputs": [],
   "source": [
    "# for 반복문과 같이 사용: for key in dict:\n",
    "# for문을 사용하여 딕셔너리 자료 출력\n",
    "\n",
    "for key in dic_a:\n",
    "    print(\"key : {}\".format(dic_a[key]))\n",
    "    \n",
    "#키와 값을 동시에 가져오는 함수: 딕셔너리.items()\n",
    "for key, value in dic_a.items() :\n",
    "    print(\"{}: {}\".format(key,value))"
   ]
  },
  {
   "cell_type": "code",
   "execution_count": null,
   "id": "25406df7",
   "metadata": {
    "scrolled": true
   },
   "outputs": [],
   "source": [
    "# 이름과 국어,영어,수학 성적을 입력받아 딕셔너리에 저장(이름->키) 후\n",
    "# 각 이름별로 성적의 총합, 평균 출력\n",
    "# 전체 학생의 인원수, 전체 과목별 평균 구하기\n",
    "\n",
    "students = {}\n",
    "\n",
    "while True :\n",
    "    name = input(\"이름 입력: \")\n",
    "\n",
    "    if name == 'q' :\n",
    "        break\n",
    "    else :\n",
    "        scores = input(\"국어,영어,수학 성적 입력(90 80 90): \").split()\n",
    "        if len(scores) != 3 :\n",
    "            continue\n",
    "            \n",
    "        score_list = []\n",
    "        for score in scores:\n",
    "            score_list.append(int(score))\n",
    "        students[name] = score_list\n",
    "        \n",
    "for key, scores in students.items() :\n",
    "    total = 0\n",
    "    for score in scores:\n",
    "        total += score\n",
    "    print(\"{}의 성적 총합:{}, 평균:{} \".format(key, total, total/len(scores)))\n",
    "\n",
    "s_scores = students.values()\n",
    "s_total = [0,0,0]\n",
    "cnt = len(students)\n",
    "\n",
    "# for score in s_scores:\n",
    "#     idx = 0\n",
    "#     for sub in score :\n",
    "#         s_total[idx] += sub\n",
    "#         idx += 1\n",
    "\n",
    "for score in s_scores:\n",
    "    for i,sub in enumerate(score):\n",
    "        s_total[i] += sub\n",
    "        \n",
    "    \n",
    "print(\"{}명의 과목별 평균점수\".format(len(students)))\n",
    "print(\"국어:{}  영어:{}  수학:{}\".format(s_total[0]/cnt, s_total[1]/cnt ,s_total[2]/cnt))\n"
   ]
  },
  {
   "cell_type": "code",
   "execution_count": null,
   "id": "65c85122",
   "metadata": {},
   "outputs": [],
   "source": [
    "# range(a,b,c) : a부터 b-1까지 c씩 증가\n",
    "#list(range(5)) -> [0,1,2,3,4]\n",
    "#list(range(5,10)) -> [5,6,7,8,9]\n",
    "#list(range(0,10,2)) -> [0,2,4,6,8]\n",
    "\n",
    "\n",
    "#구구단\n",
    "\n",
    "\n",
    "for i in range(2,10):\n",
    "    for j in range(1,10):\n",
    "        print(\"{} * {} = {}\".format(i,j,i*j))\n",
    "        \n",
    "    print()\n",
    "    "
   ]
  },
  {
   "cell_type": "code",
   "execution_count": null,
   "id": "887f0105",
   "metadata": {},
   "outputs": [],
   "source": [
    "# 0부터 100까지의 수에서 5의 배수만 출력\n",
    "\n",
    "# for i in range(0,101):\n",
    "#     if i != 0:\n",
    "#         if i%5 == 0:\n",
    "#             print(i)\n",
    "            \n",
    "for i in range(0,101,5):\n",
    "    if i != 0:\n",
    "        print(i,end=' ')\n",
    "            \n",
    "\n",
    "cnt =0\n",
    "for cnt,i in enumerate(list(range(0,101,5))) :\n",
    "    if (cnt+1) % 10 == 0 :\n",
    "        print(i)\n",
    "    else :\n",
    "        print(i)"
   ]
  },
  {
   "cell_type": "code",
   "execution_count": null,
   "id": "9ea99784",
   "metadata": {},
   "outputs": [],
   "source": [
    "list_a = [3,4,1,5,7]\n",
    "\n",
    "for i in range(len(list_a)):\n",
    "    print(\"{}번째 값: {}\".format(i,list_a[i]))\n",
    "print()\n"
   ]
  },
  {
   "cell_type": "code",
   "execution_count": 8,
   "id": "a77f39d9",
   "metadata": {
    "scrolled": false
   },
   "outputs": [
    {
     "name": "stdout",
     "output_type": "stream",
     "text": [
      "이름 입력: a\n",
      "국어,영어 성적 입력(90 80): 1 2\n",
      "이름 입력: b\n",
      "국어,영어 성적 입력(90 80): 3 4\n",
      "이름 입력: q\n",
      "찾을 이름 검색: q\n",
      "\n",
      "dict_values([[1, 2], [3, 4]])\n",
      "!!!!!!!\n"
     ]
    },
    {
     "ename": "NameError",
     "evalue": "name 'sub_total' is not defined",
     "output_type": "error",
     "traceback": [
      "\u001b[1;31m---------------------------------------------------------------------------\u001b[0m",
      "\u001b[1;31mNameError\u001b[0m                                 Traceback (most recent call last)",
      "Input \u001b[1;32mIn [8]\u001b[0m, in \u001b[0;36m<cell line: 52>\u001b[1;34m()\u001b[0m\n\u001b[0;32m     52\u001b[0m \u001b[38;5;28;01mfor\u001b[39;00m score \u001b[38;5;129;01min\u001b[39;00m s_scores:\n\u001b[0;32m     53\u001b[0m     \u001b[38;5;28;01mfor\u001b[39;00m i,sub \u001b[38;5;129;01min\u001b[39;00m \u001b[38;5;28menumerate\u001b[39m(score):\n\u001b[1;32m---> 54\u001b[0m         \u001b[43msub_total\u001b[49m[i] \u001b[38;5;241m+\u001b[39m\u001b[38;5;241m=\u001b[39m sub\n\u001b[0;32m     55\u001b[0m     tot \u001b[38;5;241m=\u001b[39m scores[\u001b[38;5;241m0\u001b[39m]\u001b[38;5;241m+\u001b[39mscores[\u001b[38;5;241m1\u001b[39m]\n\u001b[0;32m     56\u001b[0m \u001b[38;5;28mprint\u001b[39m(tot)\n",
      "\u001b[1;31mNameError\u001b[0m: name 'sub_total' is not defined"
     ]
    }
   ],
   "source": [
    "# 키보드에서 이름을 입력받아 'q'가 입력되면 종료\n",
    "# else 국어 영어 점수를 입력받아 저장\n",
    "# 입력받은 점수의 개수가 2가 아니거나 숫자가 아니면 다시 입력\n",
    "#입력 종료 후 검색하고자 하는 이름을 입력받아 \n",
    "#                               검색된 이름의 성적과 총점 평균 출력\n",
    "#총 입력된 학생의 인원수 출력\n",
    "#전체 학생의 성적의 합계를 기존의 자료에 추가\n",
    "#최고점을 받은 학생의 정보 출력\n",
    "\n",
    "\n",
    "students = {}\n",
    "\n",
    "while True :\n",
    "    name = input(\"이름 입력: \")\n",
    "    if name == 'q' :\n",
    "        break\n",
    "    else :\n",
    "        scores = input(\"국어,영어 성적 입력(90 80): \").split()\n",
    "        if len(scores) != 2 :\n",
    "            continue\n",
    "        score_list = []\n",
    "        for score in scores :\n",
    "            if score.isnumeric():\n",
    "                score_list.append(int(score))\n",
    "            else:\n",
    "                break\n",
    "        students[name] = score_list\n",
    "        \n",
    "while True :\n",
    "    search_n = input(\"찾을 이름 검색: \")    \n",
    "    if search_n == 'q' :\n",
    "        print()\n",
    "        break\n",
    "    if search_n in students:\n",
    "        print(\"{}의 성적\".format(search_n))\n",
    "        for key, scores in students.items() : #scores : '이름',[국어,영어]\n",
    "            total = 0\n",
    "            for score in scores:\n",
    "                total += score\n",
    "            print(\"국어:{}  영어:{}  평균:{}\".format(scores[0],scores[1] , total/len(scores)))\n",
    "    else:\n",
    "        print(\"이름을 찾을 수 없습니다.\")\n",
    "    \n",
    "s_scores = students.values()\n",
    "s_total = [0,0]\n",
    "cnt = len(students)\n",
    "\n",
    "print(s_scores)\n",
    "print(\"!!!!!!!\")\n",
    "\n",
    "student_total={}\n",
    "for score in s_scores:\n",
    "    for i,sub in enumerate(score):\n",
    "        score.get()\n",
    "        sub_total[i] += sub ##########################\n",
    "    tot = scores[0]+scores[1]\n",
    "print(tot)\n",
    "    #student_total[students] +=  \n",
    "\n",
    "    \n",
    "    \n",
    "print(\"{}명의 과목별 점수합계\".format(len(students)))\n",
    "print(\"국어:{}  영어:{} \".format(sub_total[0], sub_total[1]))\n",
    "\n",
    "max_score = 0\n",
    "max_name = ''\n",
    "\n",
    "print(students)\n",
    "\n"
   ]
  },
  {
   "cell_type": "code",
   "execution_count": null,
   "id": "6b2c9451",
   "metadata": {},
   "outputs": [],
   "source": [
    "for i in range(5):\n",
    "    print(i)\n",
    "print()\n",
    "list_a=[1,2,3,4,5]\n",
    "for i in reversed(list_a): # 리스트 역순\n",
    "    print(i)"
   ]
  },
  {
   "cell_type": "code",
   "execution_count": null,
   "id": "de4aa76b",
   "metadata": {},
   "outputs": [],
   "source": [
    "i=1\n",
    "total=0\n",
    "while i<11:\n",
    "    total += i\n",
    "    i+=1\n",
    "print(total)\n",
    "\n"
   ]
  },
  {
   "cell_type": "code",
   "execution_count": null,
   "id": "08ea74eb",
   "metadata": {},
   "outputs": [],
   "source": [
    "list_test = [1,2,1,2]\n",
    "value = 2"
   ]
  },
  {
   "cell_type": "code",
   "execution_count": null,
   "id": "5ca261ae",
   "metadata": {},
   "outputs": [],
   "source": []
  },
  {
   "cell_type": "code",
   "execution_count": null,
   "id": "05ec7a2d",
   "metadata": {},
   "outputs": [],
   "source": [
    "lst = ['q','!','abc','defg']\n",
    "       \n",
    "value = '!'\n",
    "while value in lst:\n",
    "    lst.remove(value)\n",
    "print(lst)"
   ]
  },
  {
   "cell_type": "code",
   "execution_count": null,
   "id": "7c612712",
   "metadata": {},
   "outputs": [],
   "source": [
    "# 데이터 타입: 문자 숫자 불리언\n",
    "# 자료 집합: list ->[ , , ,..] / dictionary -> {키: 값,값,....}\n",
    "# list[위치인덱스], dict[키]\n",
    "# 자료추가 -> list.append(요소)=값 , \n",
    "#             dict[키]=값\n",
    "# 자료삭제 -> list.pop(), list.remove(값)\n",
    "#             del dict[키]\n",
    "\n",
    "# 반복문(for)과 같이 사용\n",
    "# for value in list:\n",
    "# for key in dict:\n",
    "\n",
    "# for idx,value in enumerate(list) -> 위치(idx)와 값(value)이 저장\n",
    "# for key, value in dict.items() -> 키(key)와 값(value)이 저장됨\n",
    "\n",
    "#dict.get(키) -> 값 반환\n",
    "\n",
    "while True:\n",
    "    input_c = input(\"q or Q 입력시 종료\")\n",
    "    if input_c in ['q','Q']:\n",
    "        break\n"
   ]
  },
  {
   "cell_type": "code",
   "execution_count": 7,
   "id": "9c144fa9",
   "metadata": {},
   "outputs": [
    {
     "name": "stdout",
     "output_type": "stream",
     "text": [
      "10125325\n"
     ]
    }
   ],
   "source": [
    "import time\n",
    "\n",
    "n=0\n",
    "tick = time.time()+2\n",
    "while time.time() < tick:\n",
    "    n +=1\n",
    "print(n)"
   ]
  },
  {
   "cell_type": "markdown",
   "id": "d4e3dc96",
   "metadata": {},
   "source": [
    "# 문자열 리스트, 딕셔너리와 관련된 기본함수"
   ]
  },
  {
   "cell_type": "code",
   "execution_count": 16,
   "id": "9d73738a",
   "metadata": {},
   "outputs": [
    {
     "name": "stdout",
     "output_type": "stream",
     "text": [
      "10\n",
      "30\n",
      "60\n",
      "abc\n",
      "ke\n"
     ]
    }
   ],
   "source": [
    "#min max sum\n",
    "list_a=[10,20,30]\n",
    "print(min(list_a))\n",
    "print(max(list_a))\n",
    "print(sum(list_a))\n",
    "\n",
    "list_s=['accd','abc','ke'] # 알파벳 순서\n",
    "print(min(list_s))\n",
    "print(max(list_s))\n",
    "# print(sum(list_s)) # 오류"
   ]
  },
  {
   "cell_type": "code",
   "execution_count": 22,
   "id": "c3ff1359",
   "metadata": {},
   "outputs": [
    {
     "name": "stdout",
     "output_type": "stream",
     "text": [
      "[0, 4, 16, 36, 64, 100, 144, 196, 256, 324]\n",
      "\n",
      "[0, 16, 64, 144, 256]\n"
     ]
    }
   ],
   "source": [
    "#리스트 안에 for문장 / if문장 사용\n",
    "\n",
    "array = [i*i for i in range(0,20,2)]\n",
    "print(array)\n",
    "\n",
    "print()\n",
    "\n",
    "array2 = [i*i \n",
    "          for i in range(0,20,2)\n",
    "          if i%4 == 0]\n",
    "print(array2)"
   ]
  },
  {
   "cell_type": "code",
   "execution_count": 28,
   "id": "2dac9963",
   "metadata": {},
   "outputs": [
    {
     "name": "stdout",
     "output_type": "stream",
     "text": [
      "정수 입력4\n",
      "입력한 문자열은 4입니다.4는 짝수입니다.\n"
     ]
    }
   ],
   "source": [
    "number = int(input(\"정수 입력\"))\n",
    "if number % 2 == 0:\n",
    "    print('입력한 문자열은 {}입니다.'\n",
    "          '{}는 짝수입니다.'\n",
    "         .format(number,number))\n",
    "    "
   ]
  },
  {
   "cell_type": "code",
   "execution_count": 42,
   "id": "8760b706",
   "metadata": {},
   "outputs": [
    {
     "name": "stdout",
     "output_type": "stream",
     "text": [
      "['accd', 'abc', 'ke']\n",
      "accd:abc:ke\n",
      "['accd', 'abc', 'ke']\n"
     ]
    }
   ],
   "source": [
    "# 문자열.split() 분리\n",
    "# 리스트를 하나의 문자열로 전환\n",
    "print(list_s)\n",
    "join_str = ':'.join(list_s)\n",
    "print(join_str)\n",
    "\n",
    "split_list = join_str.split(':')\n",
    "print(split_list)\n"
   ]
  }
 ],
 "metadata": {
  "kernelspec": {
   "display_name": "Python 3 (ipykernel)",
   "language": "python",
   "name": "python3"
  },
  "language_info": {
   "codemirror_mode": {
    "name": "ipython",
    "version": 3
   },
   "file_extension": ".py",
   "mimetype": "text/x-python",
   "name": "python",
   "nbconvert_exporter": "python",
   "pygments_lexer": "ipython3",
   "version": "3.9.12"
  }
 },
 "nbformat": 4,
 "nbformat_minor": 5
}
